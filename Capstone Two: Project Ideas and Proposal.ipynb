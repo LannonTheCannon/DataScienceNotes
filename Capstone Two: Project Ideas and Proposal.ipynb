{
 "cells": [
  {
   "cell_type": "raw",
   "source": [
    " #%% md\n",
    "### Capstone Two: Project Ideas and Proposal\n",
    "* Data Science Method, starting with Problem identification\n",
    "* Identify 3 possible project ideas\n",
    "* Talk to Ram and expand on complete project proposal\n",
    "* At end of unit, you'll take on data wrangling step of this capstone"
   ],
   "metadata": {
    "collapsed": false,
    "pycharm": {
     "name": ""
    }
   }
  },
  {
   "cell_type": "markdown",
   "source": [
    "#### Objective\n",
    "* Use Google Dataset Search to find 3 datasets and brainstorm project ideas.\n",
    "* You can also combine two or more datasets to answer a single question"
   ],
   "metadata": {
    "collapsed": false
   }
  },
  {
   "cell_type": "markdown",
   "source": [
    "##### Rubric\n",
    "Learning objectives\n",
    "> Identify three potential projects with associated data to support the projects\n",
    "> Practice using the Google Dataset Search tool\n",
    "* Criteria\n",
    "> A short description of each of the three ideas as a single google doc submitted\n",
    "* Process and Understanding\n",
    "> The submission contains three high-level ideas with links to the appropriate data that could be used to support the idea\n",
    "> The ideas are framed around real-world business problems"
   ],
   "metadata": {
    "collapsed": false
   }
  },
  {
   "cell_type": "markdown",
   "source": [
    "##### Project Steps\n",
    "1. Explore datasets from Google Data Search. Some other engines include:\n",
    "    * Quandl, US Government Open Data, UCI Machine Learning Repository, Kaggle competitions, Mode Analytics\n",
    "    * Data is Plural is an email list that sends newly released and interesting datasets\n",
    "2. For your initial project ideas:\n",
    "    * Include a short description of each idea. The description should briefly discuss the problem and the data you'll use to solve it.\n",
    "    * Post your idea, including the title and description to the community and solicit feedback\n",
    "3. One word of caution:\n",
    "    * Choose your datasets wisely; check for a reputable source and detailed data documentation or metadata to describe how it was colleted and the appropriate level of context."
   ],
   "metadata": {
    "collapsed": false
   }
  },
  {
   "cell_type": "markdown",
   "source": [
    "#### Project Ideas"
   ],
   "metadata": {
    "collapsed": false
   }
  },
  {
   "cell_type": "markdown",
   "source": [
    "##### Project Idea #1\n",
    "Predicting NFL ticket prices.\n",
    "* This project would involve collecting data on NFL ticket prices, such as team, stadium, opponent, and game date, and then using machine learning algorithms to predict ticket prices. We could explore the impact of different variables, such as team performance, player popularity, and weather conditions, on ticket prices. The insights from this project could be useful for sports fans and ticket resellers."
   ],
   "metadata": {
    "collapsed": false
   }
  },
  {
   "cell_type": "markdown",
   "source": [
    "##### Project Idea #2\n",
    "Predicting Music Festival Attendance\n",
    "* This project would involve collecting data on music festival attendance, such as location, genre, headliners, and ticket prices, and using machine learning algorithms to predict attendance. We could explore the impact of different variables, such as festival duration, camping options, and transportation, on attendance. The insights from this project could be useful for music festival organizers and promoters/"
   ],
   "metadata": {
    "collapsed": false
   }
  },
  {
   "cell_type": "markdown",
   "source": [
    "##### Project Idea #3\n",
    "Predicting customer lifetime value:\n",
    "* This project would involve collecting data on customer behavior, such as a purchase history, engagement levels, and customer feedback, and then use machine learning algorithms to predict customer lifetime value. You could also explore the impact of different variables, such as customer demographics, pricing, and product features, on customer lifetime value. The insights from this project could be useful for customer retention teams and marketing departments.\n"
   ],
   "metadata": {
    "collapsed": false
   }
  },
  {
   "cell_type": "markdown",
   "source": [
    "##### Companies that have datasets related to customer lifetime value:\n",
    "1. Gaming technologies"
   ],
   "metadata": {
    "collapsed": false
   }
  },
  {
   "cell_type": "markdown",
   "source": [
    "##### Project Idea #4\n",
    "Predicting the impact of robotic process automation (RPA) on restaurant operations\n",
    "* Robotic process automation (RPA) is an emerging technology that involves using software robots to automate repetitive tasks, such as data entry and order processing. This technology has the potential to transform the restaurant industry by reducing labor costs, improving efficiency, and enhancing customer experience.\n",
    "* For this project, We could collect data on a restaurants operations, such as number of employees, order volumes, customer feedback, wait times, and then use machine learning algorithms to predict the impact of implementing RPA.\n",
    "* You could explore the impact of different variables, such as the type of RPA technology used, the level of employee training required, and the cost of implementation, on the predicted impact.\n",
    "* The insights from this project could be useful for restaurant and operators who are considering implementing RPA in their operations. They could use the predictions to make informed decisions about whether or not to invest in RPA and how to optimize their implementation strategy,"
   ],
   "metadata": {
    "collapsed": false
   }
  },
  {
   "cell_type": "markdown",
   "source": [
    "###### Robotic Process Automation\n",
    "* Look out for variables/ features that are relevant to the question\n",
    "* Predict the impact of RPA on restaurant operations\n",
    "    1. Order volume: The number of orders a restaurant receives per day or per week\n",
    "    2. Wait times: The amount of time customers typically wait for their orders to be fulfilled\n",
    "    3. Customer feedback: Ratings and reviews provided by customers on platforms like Yelp or Google Reviews\n",
    "    4. Labor costs: The cost of employing staff to perform tasks that could be automated with RPA\n",
    "    5. Employee training: The amount of time and resources acquired to train employees to work with RPA technology\n",
    "    6. RPA implementation costs: The cost of purchasing and implementing RPA technology in the restaurant."
   ],
   "metadata": {
    "collapsed": false
   }
  },
  {
   "cell_type": "markdown",
   "source": [
    "#### Project Idea #5\n",
    "Food Preferences\n",
    "* This survey was conducted among participants from different countries and demographics. This will enable the novice data science enthusiast to practice data pre-processing, feature engineering, analysis and visualization\n",
    "* Columns: Timestamp, ParticipantID, Gender, Nationality, Age, Food, Juice, Dessert"
   ],
   "metadata": {
    "collapsed": false
   }
  },
  {
   "cell_type": "markdown",
   "source": [
    "#### Project Idea #6 (this is more of a data analyst)\n",
    "The most In Demand Skills for Data Scientists\n",
    "* What are employers looking for?\n",
    "* Explore which skills and software for Data Scientists are in demand in the US in October 2018 by looking at online job listing sites. Use plotly and pandas to make interactive visualizations for this project."
   ],
   "metadata": {
    "collapsed": false
   }
  },
  {
   "cell_type": "markdown",
   "source": [
    "#### Project Idea #7\n"
   ],
   "metadata": {
    "collapsed": false
   }
  }
 ],
 "metadata": {
  "kernelspec": {
   "display_name": "Python 3",
   "language": "python",
   "name": "python3"
  },
  "language_info": {
   "codemirror_mode": {
    "name": "ipython",
    "version": 2
   },
   "file_extension": ".py",
   "mimetype": "text/x-python",
   "name": "python",
   "nbconvert_exporter": "python",
   "pygments_lexer": "ipython2",
   "version": "2.7.6"
  }
 },
 "nbformat": 4,
 "nbformat_minor": 0
}
